{
 "cells": [
  {
   "cell_type": "code",
   "execution_count": 45,
   "id": "6957189a",
   "metadata": {},
   "outputs": [],
   "source": [
    "import requests as req\n",
    "import time\n",
    "import pandas as pd\n",
    "import re\n",
    "import nltk\n",
    "from nltk.stem.wordnet import WordNetLemmatizer"
   ]
  },
  {
   "cell_type": "code",
   "execution_count": 46,
   "id": "bfbd6143",
   "metadata": {},
   "outputs": [],
   "source": [
    "API_KEY='bnQTpfWMmnllGMTeJnRQeukDNHEQpzyC' # API key\n",
    "TOPIC='Technology' # topic of the articles to collect"
   ]
  },
  {
   "cell_type": "markdown",
   "id": "7e1b4ca9",
   "metadata": {},
   "source": [
    "# Article scraper"
   ]
  },
  {
   "cell_type": "markdown",
   "id": "f163acb3",
   "metadata": {},
   "source": [
    "The articles are scraped with the following function, with an API key for a given date range (begin_date,end_date).\n"
   ]
  },
  {
   "cell_type": "code",
   "execution_count": 57,
   "id": "66130bb2",
   "metadata": {},
   "outputs": [],
   "source": [
    "def scraper(begin_date,end_date):\n",
    "    \n",
    "    articles = []\n",
    "    i = 0 # page number\n",
    "    \n",
    "    while 1 :\n",
    "       \n",
    "        url='https://api.nytimes.com/svc/search/v2/articlesearch.json?q='+TOPIC+'&api-key='+API_KEY+'&begin_date='+begin_date+'&end_date='+end_date+'&page='+str(i)\n",
    "        response = req.get(url).json()\n",
    "        time.sleep(6) # done to avoid hitting the API request limit\n",
    "        docs = response['response']['docs']\n",
    "\n",
    "        if len(docs) == 0 :\n",
    "            break # we stop to scrape the articles when the current page doesn't have anymore articles\n",
    "\n",
    "        for doc in docs:\n",
    "            filteredDoc = {}\n",
    "            filteredDoc['title'] = doc['headline']['main']\n",
    "            filteredDoc['abstract'] = doc['abstract']\n",
    "            filteredDoc['paragraph']=doc['lead_paragraph']\n",
    "            filteredDoc['date']=doc['pub_date']\n",
    "            articles.append(filteredDoc)\n",
    "\n",
    "        i += 1    \n",
    "        #end_date = articles[len(articles)//2]['date'][:10].replace('-', '')\n",
    "    return pd.DataFrame(data=articles)"
   ]
  },
  {
   "cell_type": "code",
   "execution_count": 59,
   "id": "b10c6efa",
   "metadata": {},
   "outputs": [
    {
     "name": "stdout",
     "output_type": "stream",
     "text": [
      "1\n"
     ]
    },
    {
     "name": "stderr",
     "output_type": "stream",
     "text": [
      "C:\\Users\\USER\\AppData\\Local\\Temp\\ipykernel_8856\\203889027.py:3: FutureWarning: The frame.append method is deprecated and will be removed from pandas in a future version. Use pandas.concat instead.\n",
      "  df = df.append(scraper(\"20210201\",\"20210301\"), ignore_index=True)\n"
     ]
    },
    {
     "name": "stdout",
     "output_type": "stream",
     "text": [
      "2\n"
     ]
    },
    {
     "name": "stderr",
     "output_type": "stream",
     "text": [
      "C:\\Users\\USER\\AppData\\Local\\Temp\\ipykernel_8856\\203889027.py:5: FutureWarning: The frame.append method is deprecated and will be removed from pandas in a future version. Use pandas.concat instead.\n",
      "  df = df.append(scraper(\"20210301\",\"20210401\"), ignore_index=True)\n"
     ]
    },
    {
     "name": "stdout",
     "output_type": "stream",
     "text": [
      "3\n"
     ]
    },
    {
     "name": "stderr",
     "output_type": "stream",
     "text": [
      "C:\\Users\\USER\\AppData\\Local\\Temp\\ipykernel_8856\\203889027.py:7: FutureWarning: The frame.append method is deprecated and will be removed from pandas in a future version. Use pandas.concat instead.\n",
      "  df = df.append(scraper(\"20210401\",\"20210501\"), ignore_index=True)\n"
     ]
    },
    {
     "name": "stdout",
     "output_type": "stream",
     "text": [
      "4\n"
     ]
    },
    {
     "name": "stderr",
     "output_type": "stream",
     "text": [
      "C:\\Users\\USER\\AppData\\Local\\Temp\\ipykernel_8856\\203889027.py:9: FutureWarning: The frame.append method is deprecated and will be removed from pandas in a future version. Use pandas.concat instead.\n",
      "  df = df.append(scraper(\"20210501\",\"20210601\"), ignore_index=True)\n"
     ]
    },
    {
     "name": "stdout",
     "output_type": "stream",
     "text": [
      "5\n"
     ]
    },
    {
     "name": "stderr",
     "output_type": "stream",
     "text": [
      "C:\\Users\\USER\\AppData\\Local\\Temp\\ipykernel_8856\\203889027.py:11: FutureWarning: The frame.append method is deprecated and will be removed from pandas in a future version. Use pandas.concat instead.\n",
      "  df = df.append(scraper(\"20210601\",\"20210701\"), ignore_index=True)\n"
     ]
    },
    {
     "name": "stdout",
     "output_type": "stream",
     "text": [
      "6\n"
     ]
    },
    {
     "name": "stderr",
     "output_type": "stream",
     "text": [
      "C:\\Users\\USER\\AppData\\Local\\Temp\\ipykernel_8856\\203889027.py:13: FutureWarning: The frame.append method is deprecated and will be removed from pandas in a future version. Use pandas.concat instead.\n",
      "  df = df.append(scraper(\"20210701\",\"20210801\"), ignore_index=True)\n"
     ]
    },
    {
     "name": "stdout",
     "output_type": "stream",
     "text": [
      "7\n"
     ]
    },
    {
     "name": "stderr",
     "output_type": "stream",
     "text": [
      "C:\\Users\\USER\\AppData\\Local\\Temp\\ipykernel_8856\\203889027.py:15: FutureWarning: The frame.append method is deprecated and will be removed from pandas in a future version. Use pandas.concat instead.\n",
      "  df = df.append(scraper(\"20210801\",\"20210901\"), ignore_index=True)\n"
     ]
    },
    {
     "name": "stdout",
     "output_type": "stream",
     "text": [
      "8\n"
     ]
    },
    {
     "name": "stderr",
     "output_type": "stream",
     "text": [
      "C:\\Users\\USER\\AppData\\Local\\Temp\\ipykernel_8856\\203889027.py:17: FutureWarning: The frame.append method is deprecated and will be removed from pandas in a future version. Use pandas.concat instead.\n",
      "  df = df.append(scraper(\"20210901\",\"20211001\"), ignore_index=True)\n"
     ]
    },
    {
     "name": "stdout",
     "output_type": "stream",
     "text": [
      "9\n"
     ]
    },
    {
     "name": "stderr",
     "output_type": "stream",
     "text": [
      "C:\\Users\\USER\\AppData\\Local\\Temp\\ipykernel_8856\\203889027.py:19: FutureWarning: The frame.append method is deprecated and will be removed from pandas in a future version. Use pandas.concat instead.\n",
      "  df = df.append(scraper(\"20211001\",\"20211101\"), ignore_index=True)\n"
     ]
    },
    {
     "name": "stdout",
     "output_type": "stream",
     "text": [
      "10\n"
     ]
    },
    {
     "name": "stderr",
     "output_type": "stream",
     "text": [
      "C:\\Users\\USER\\AppData\\Local\\Temp\\ipykernel_8856\\203889027.py:21: FutureWarning: The frame.append method is deprecated and will be removed from pandas in a future version. Use pandas.concat instead.\n",
      "  df = df.append(scraper(\"20211101\",\"20211201\"), ignore_index=True)\n"
     ]
    },
    {
     "name": "stdout",
     "output_type": "stream",
     "text": [
      "11\n"
     ]
    },
    {
     "name": "stderr",
     "output_type": "stream",
     "text": [
      "C:\\Users\\USER\\AppData\\Local\\Temp\\ipykernel_8856\\203889027.py:23: FutureWarning: The frame.append method is deprecated and will be removed from pandas in a future version. Use pandas.concat instead.\n",
      "  df = df.append(scraper(\"20211201\",\"20220101\"), ignore_index=True)\n"
     ]
    },
    {
     "name": "stdout",
     "output_type": "stream",
     "text": [
      "12\n"
     ]
    },
    {
     "name": "stderr",
     "output_type": "stream",
     "text": [
      "C:\\Users\\USER\\AppData\\Local\\Temp\\ipykernel_8856\\203889027.py:25: FutureWarning: The frame.append method is deprecated and will be removed from pandas in a future version. Use pandas.concat instead.\n",
      "  df = df.append(scraper(\"20220101\",\"20220201\"), ignore_index=True)\n"
     ]
    },
    {
     "name": "stdout",
     "output_type": "stream",
     "text": [
      "13\n"
     ]
    },
    {
     "name": "stderr",
     "output_type": "stream",
     "text": [
      "C:\\Users\\USER\\AppData\\Local\\Temp\\ipykernel_8856\\203889027.py:27: FutureWarning: The frame.append method is deprecated and will be removed from pandas in a future version. Use pandas.concat instead.\n",
      "  df = df.append(scraper(\"20220201\",\"20220301\"), ignore_index=True)\n"
     ]
    },
    {
     "name": "stdout",
     "output_type": "stream",
     "text": [
      "14\n"
     ]
    },
    {
     "name": "stderr",
     "output_type": "stream",
     "text": [
      "C:\\Users\\USER\\AppData\\Local\\Temp\\ipykernel_8856\\203889027.py:29: FutureWarning: The frame.append method is deprecated and will be removed from pandas in a future version. Use pandas.concat instead.\n",
      "  df = df.append(scraper(\"20220301\",\"20220401\"), ignore_index=True)\n"
     ]
    },
    {
     "name": "stdout",
     "output_type": "stream",
     "text": [
      "15\n"
     ]
    },
    {
     "name": "stderr",
     "output_type": "stream",
     "text": [
      "C:\\Users\\USER\\AppData\\Local\\Temp\\ipykernel_8856\\203889027.py:31: FutureWarning: The frame.append method is deprecated and will be removed from pandas in a future version. Use pandas.concat instead.\n",
      "  df = df.append(scraper(\"20220401\",\"20220501\"), ignore_index=True)\n"
     ]
    },
    {
     "name": "stdout",
     "output_type": "stream",
     "text": [
      "16\n"
     ]
    },
    {
     "name": "stderr",
     "output_type": "stream",
     "text": [
      "C:\\Users\\USER\\AppData\\Local\\Temp\\ipykernel_8856\\203889027.py:33: FutureWarning: The frame.append method is deprecated and will be removed from pandas in a future version. Use pandas.concat instead.\n",
      "  df = df.append(scraper(\"20220501\",\"20220601\"), ignore_index=True)\n"
     ]
    },
    {
     "name": "stdout",
     "output_type": "stream",
     "text": [
      "17\n"
     ]
    },
    {
     "name": "stderr",
     "output_type": "stream",
     "text": [
      "C:\\Users\\USER\\AppData\\Local\\Temp\\ipykernel_8856\\203889027.py:35: FutureWarning: The frame.append method is deprecated and will be removed from pandas in a future version. Use pandas.concat instead.\n",
      "  df = df.append(scraper(\"20220601\",\"20220701\"), ignore_index=True)\n"
     ]
    },
    {
     "name": "stdout",
     "output_type": "stream",
     "text": [
      "18\n"
     ]
    },
    {
     "name": "stderr",
     "output_type": "stream",
     "text": [
      "C:\\Users\\USER\\AppData\\Local\\Temp\\ipykernel_8856\\203889027.py:37: FutureWarning: The frame.append method is deprecated and will be removed from pandas in a future version. Use pandas.concat instead.\n",
      "  df = df.append(scraper(\"20220701\",\"20220801\"), ignore_index=True)\n"
     ]
    },
    {
     "name": "stdout",
     "output_type": "stream",
     "text": [
      "19\n"
     ]
    },
    {
     "name": "stderr",
     "output_type": "stream",
     "text": [
      "C:\\Users\\USER\\AppData\\Local\\Temp\\ipykernel_8856\\203889027.py:39: FutureWarning: The frame.append method is deprecated and will be removed from pandas in a future version. Use pandas.concat instead.\n",
      "  df = df.append(scraper(\"20220801\",\"20220901\"), ignore_index=True)\n"
     ]
    },
    {
     "name": "stdout",
     "output_type": "stream",
     "text": [
      "20\n"
     ]
    },
    {
     "name": "stderr",
     "output_type": "stream",
     "text": [
      "C:\\Users\\USER\\AppData\\Local\\Temp\\ipykernel_8856\\203889027.py:41: FutureWarning: The frame.append method is deprecated and will be removed from pandas in a future version. Use pandas.concat instead.\n",
      "  df = df.append(scraper(\"20220901\",\"20221001\"), ignore_index=True)\n"
     ]
    },
    {
     "name": "stdout",
     "output_type": "stream",
     "text": [
      "21\n"
     ]
    },
    {
     "name": "stderr",
     "output_type": "stream",
     "text": [
      "C:\\Users\\USER\\AppData\\Local\\Temp\\ipykernel_8856\\203889027.py:43: FutureWarning: The frame.append method is deprecated and will be removed from pandas in a future version. Use pandas.concat instead.\n",
      "  df = df.append(scraper(\"20221001\",\"20221101\"), ignore_index=True)\n"
     ]
    },
    {
     "name": "stdout",
     "output_type": "stream",
     "text": [
      "22\n",
      "23\n"
     ]
    },
    {
     "name": "stderr",
     "output_type": "stream",
     "text": [
      "C:\\Users\\USER\\AppData\\Local\\Temp\\ipykernel_8856\\203889027.py:45: FutureWarning: The frame.append method is deprecated and will be removed from pandas in a future version. Use pandas.concat instead.\n",
      "  df = df.append(scraper(\"20221101\",\"20221201\"), ignore_index=True)\n"
     ]
    }
   ],
   "source": [
    "df = scraper(\"20210101\",\"20210201\") \n",
    "print(1)\n",
    "df = df.append(scraper(\"20210201\",\"20210301\"), ignore_index=True)\n",
    "print(2)\n",
    "df = df.append(scraper(\"20210301\",\"20210401\"), ignore_index=True)\n",
    "print(3)\n",
    "df = df.append(scraper(\"20210401\",\"20210501\"), ignore_index=True)\n",
    "print(4)\n",
    "df = df.append(scraper(\"20210501\",\"20210601\"), ignore_index=True)\n",
    "print(5)\n",
    "df = df.append(scraper(\"20210601\",\"20210701\"), ignore_index=True)\n",
    "print(6)\n",
    "df = df.append(scraper(\"20210701\",\"20210801\"), ignore_index=True)\n",
    "print(7)\n",
    "df = df.append(scraper(\"20210801\",\"20210901\"), ignore_index=True)\n",
    "print(8)\n",
    "df = df.append(scraper(\"20210901\",\"20211001\"), ignore_index=True)\n",
    "print(9)\n",
    "df = df.append(scraper(\"20211001\",\"20211101\"), ignore_index=True)\n",
    "print(10)\n",
    "df = df.append(scraper(\"20211101\",\"20211201\"), ignore_index=True)\n",
    "print(11)\n",
    "df = df.append(scraper(\"20211201\",\"20220101\"), ignore_index=True)\n",
    "print(12)\n",
    "df = df.append(scraper(\"20220101\",\"20220201\"), ignore_index=True)\n",
    "print(13)\n",
    "df = df.append(scraper(\"20220201\",\"20220301\"), ignore_index=True)\n",
    "print(14)\n",
    "df = df.append(scraper(\"20220301\",\"20220401\"), ignore_index=True)\n",
    "print(15)\n",
    "df = df.append(scraper(\"20220401\",\"20220501\"), ignore_index=True)\n",
    "print(16)\n",
    "df = df.append(scraper(\"20220501\",\"20220601\"), ignore_index=True)\n",
    "print(17)\n",
    "df = df.append(scraper(\"20220601\",\"20220701\"), ignore_index=True)\n",
    "print(18)\n",
    "df = df.append(scraper(\"20220701\",\"20220801\"), ignore_index=True)\n",
    "print(19)\n",
    "df = df.append(scraper(\"20220801\",\"20220901\"), ignore_index=True)\n",
    "print(20)\n",
    "df = df.append(scraper(\"20220901\",\"20221001\"), ignore_index=True)\n",
    "print(21)\n",
    "df = df.append(scraper(\"20221001\",\"20221101\"), ignore_index=True)\n",
    "print(22)\n",
    "df = df.append(scraper(\"20221101\",\"20221201\"), ignore_index=True)\n",
    "print(23)"
   ]
  },
  {
   "cell_type": "code",
   "execution_count": 55,
   "id": "ab5f7dae",
   "metadata": {
    "scrolled": true
   },
   "outputs": [
    {
     "name": "stdout",
     "output_type": "stream",
     "text": [
      "0\n",
      "1\n",
      "2\n",
      "3\n",
      "4\n",
      "5\n",
      "6\n",
      "7\n",
      "8\n",
      "9\n",
      "10\n",
      "11\n",
      "12\n",
      "13\n",
      "14\n",
      "15\n",
      "16\n",
      "17\n",
      "18\n",
      "19\n",
      "20\n",
      "21\n",
      "22\n",
      "23\n",
      "24\n",
      "25\n",
      "26\n",
      "27\n",
      "28\n",
      "29\n",
      "30\n",
      "31\n",
      "32\n",
      "33\n",
      "34\n",
      "35\n",
      "36\n",
      "37\n",
      "38\n",
      "39\n",
      "40\n",
      "41\n",
      "42\n",
      "43\n",
      "44\n",
      "45\n",
      "46\n",
      "47\n",
      "48\n",
      "49\n",
      "50\n",
      "51\n",
      "52\n",
      "53\n",
      "54\n",
      "55\n",
      "56\n",
      "57\n",
      "58\n",
      "59\n",
      "60\n",
      "61\n",
      "62\n",
      "63\n",
      "64\n",
      "65\n",
      "66\n",
      "67\n",
      "68\n",
      "69\n",
      "70\n",
      "71\n",
      "72\n",
      "73\n",
      "74\n",
      "75\n",
      "76\n",
      "77\n",
      "78\n",
      "79\n",
      "80\n",
      "81\n",
      "82\n",
      "83\n",
      "84\n",
      "85\n",
      "86\n",
      "87\n",
      "88\n",
      "89\n",
      "90\n",
      "91\n",
      "92\n",
      "93\n",
      "94\n",
      "20211218\n"
     ]
    }
   ],
   "source": [
    "# the articles we are scraping were released between the first january 2021 and the first january 2022\n",
    "df = scraper(\"20211101\",\"20220101\") "
   ]
  },
  {
   "cell_type": "code",
   "execution_count": 60,
   "id": "af0765e5",
   "metadata": {},
   "outputs": [
    {
     "data": {
      "text/html": [
       "<div>\n",
       "<style scoped>\n",
       "    .dataframe tbody tr th:only-of-type {\n",
       "        vertical-align: middle;\n",
       "    }\n",
       "\n",
       "    .dataframe tbody tr th {\n",
       "        vertical-align: top;\n",
       "    }\n",
       "\n",
       "    .dataframe thead th {\n",
       "        text-align: right;\n",
       "    }\n",
       "</style>\n",
       "<table border=\"1\" class=\"dataframe\">\n",
       "  <thead>\n",
       "    <tr style=\"text-align: right;\">\n",
       "      <th></th>\n",
       "      <th>title</th>\n",
       "      <th>abstract</th>\n",
       "      <th>paragraph</th>\n",
       "      <th>date</th>\n",
       "    </tr>\n",
       "  </thead>\n",
       "  <tbody>\n",
       "    <tr>\n",
       "      <th>0</th>\n",
       "      <td>Here’s a Way to Learn if Facial Recognition Sy...</td>\n",
       "      <td>An online tool targets only a small slice of w...</td>\n",
       "      <td>When tech companies created the facial recogni...</td>\n",
       "      <td>2021-01-31T10:00:13+0000</td>\n",
       "    </tr>\n",
       "    <tr>\n",
       "      <th>1</th>\n",
       "      <td>Inside a Pro-Huawei Influence Campaign</td>\n",
       "      <td>A covert online push to sway telecommunication...</td>\n",
       "      <td>LONDON — Edwin Vermulst, a trade lawyer in Bru...</td>\n",
       "      <td>2021-01-29T10:00:28+0000</td>\n",
       "    </tr>\n",
       "    <tr>\n",
       "      <th>2</th>\n",
       "      <td>To Get on This SpaceX Flight, You Don’t Have t...</td>\n",
       "      <td>Jared Isaacman, 37-year-old founder of Shift4 ...</td>\n",
       "      <td>A new era is opening in spaceflight, a future ...</td>\n",
       "      <td>2021-02-01T21:05:11+0000</td>\n",
       "    </tr>\n",
       "    <tr>\n",
       "      <th>3</th>\n",
       "      <td>They Found a Way to Limit Big Tech’s Power: Us...</td>\n",
       "      <td>Companies inspired by the cryptocurrency are c...</td>\n",
       "      <td>To hear more audio stories from publishers lik...</td>\n",
       "      <td>2021-01-26T10:00:20+0000</td>\n",
       "    </tr>\n",
       "    <tr>\n",
       "      <th>4</th>\n",
       "      <td>What is a Blockchain? Is It Hype?</td>\n",
       "      <td>A technology based on a decentralized network ...</td>\n",
       "      <td>This article is part of the On Tech newsletter...</td>\n",
       "      <td>2021-01-26T18:10:35+0000</td>\n",
       "    </tr>\n",
       "    <tr>\n",
       "      <th>...</th>\n",
       "      <td>...</td>\n",
       "      <td>...</td>\n",
       "      <td>...</td>\n",
       "      <td>...</td>\n",
       "    </tr>\n",
       "    <tr>\n",
       "      <th>10782</th>\n",
       "      <td>What to Cook This Week</td>\n",
       "      <td>Butternut squash congee, pasta alla Brontese a...</td>\n",
       "      <td>Good morning. Even the best home cooks have Th...</td>\n",
       "      <td>2022-11-13T16:00:04+0000</td>\n",
       "    </tr>\n",
       "    <tr>\n",
       "      <th>10783</th>\n",
       "      <td>What Holds a Marriage Together, or Doesn’t</td>\n",
       "      <td>Marriage: Tom and Gisele’s, and others’. Also:...</td>\n",
       "      <td>To the Editor:</td>\n",
       "      <td>2022-11-20T14:00:11+0000</td>\n",
       "    </tr>\n",
       "    <tr>\n",
       "      <th>10784</th>\n",
       "      <td>Tracking the Climate Toll as Leaders Meet</td>\n",
       "      <td>Readers discuss climate change as the summit i...</td>\n",
       "      <td>To the Editor:</td>\n",
       "      <td>2022-11-08T17:52:29+0000</td>\n",
       "    </tr>\n",
       "    <tr>\n",
       "      <th>10785</th>\n",
       "      <td>A Dire Outlook as Climate Action Falls Short</td>\n",
       "      <td>Readers discuss an article about how nations f...</td>\n",
       "      <td>To the Editor:</td>\n",
       "      <td>2022-11-04T15:12:36+0000</td>\n",
       "    </tr>\n",
       "    <tr>\n",
       "      <th>10786</th>\n",
       "      <td>A Climate Change Skeptic’s Change of Heart</td>\n",
       "      <td>Responses to Bret Stephens’s column about his ...</td>\n",
       "      <td>To the Editor:</td>\n",
       "      <td>2022-11-06T16:30:08+0000</td>\n",
       "    </tr>\n",
       "  </tbody>\n",
       "</table>\n",
       "<p>10787 rows × 4 columns</p>\n",
       "</div>"
      ],
      "text/plain": [
       "                                                   title  \\\n",
       "0      Here’s a Way to Learn if Facial Recognition Sy...   \n",
       "1                 Inside a Pro-Huawei Influence Campaign   \n",
       "2      To Get on This SpaceX Flight, You Don’t Have t...   \n",
       "3      They Found a Way to Limit Big Tech’s Power: Us...   \n",
       "4                      What is a Blockchain? Is It Hype?   \n",
       "...                                                  ...   \n",
       "10782                             What to Cook This Week   \n",
       "10783         What Holds a Marriage Together, or Doesn’t   \n",
       "10784          Tracking the Climate Toll as Leaders Meet   \n",
       "10785       A Dire Outlook as Climate Action Falls Short   \n",
       "10786         A Climate Change Skeptic’s Change of Heart   \n",
       "\n",
       "                                                abstract  \\\n",
       "0      An online tool targets only a small slice of w...   \n",
       "1      A covert online push to sway telecommunication...   \n",
       "2      Jared Isaacman, 37-year-old founder of Shift4 ...   \n",
       "3      Companies inspired by the cryptocurrency are c...   \n",
       "4      A technology based on a decentralized network ...   \n",
       "...                                                  ...   \n",
       "10782  Butternut squash congee, pasta alla Brontese a...   \n",
       "10783  Marriage: Tom and Gisele’s, and others’. Also:...   \n",
       "10784  Readers discuss climate change as the summit i...   \n",
       "10785  Readers discuss an article about how nations f...   \n",
       "10786  Responses to Bret Stephens’s column about his ...   \n",
       "\n",
       "                                               paragraph  \\\n",
       "0      When tech companies created the facial recogni...   \n",
       "1      LONDON — Edwin Vermulst, a trade lawyer in Bru...   \n",
       "2      A new era is opening in spaceflight, a future ...   \n",
       "3      To hear more audio stories from publishers lik...   \n",
       "4      This article is part of the On Tech newsletter...   \n",
       "...                                                  ...   \n",
       "10782  Good morning. Even the best home cooks have Th...   \n",
       "10783                                     To the Editor:   \n",
       "10784                                     To the Editor:   \n",
       "10785                                     To the Editor:   \n",
       "10786                                     To the Editor:   \n",
       "\n",
       "                           date  \n",
       "0      2021-01-31T10:00:13+0000  \n",
       "1      2021-01-29T10:00:28+0000  \n",
       "2      2021-02-01T21:05:11+0000  \n",
       "3      2021-01-26T10:00:20+0000  \n",
       "4      2021-01-26T18:10:35+0000  \n",
       "...                         ...  \n",
       "10782  2022-11-13T16:00:04+0000  \n",
       "10783  2022-11-20T14:00:11+0000  \n",
       "10784  2022-11-08T17:52:29+0000  \n",
       "10785  2022-11-04T15:12:36+0000  \n",
       "10786  2022-11-06T16:30:08+0000  \n",
       "\n",
       "[10787 rows x 4 columns]"
      ]
     },
     "execution_count": 60,
     "metadata": {},
     "output_type": "execute_result"
    }
   ],
   "source": [
    "df"
   ]
  },
  {
   "cell_type": "code",
   "execution_count": 61,
   "id": "c4e99b78",
   "metadata": {},
   "outputs": [],
   "source": [
    "df = df.drop_duplicates()"
   ]
  },
  {
   "cell_type": "code",
   "execution_count": 63,
   "id": "f2b96f3a",
   "metadata": {},
   "outputs": [
    {
     "name": "stderr",
     "output_type": "stream",
     "text": [
      "C:\\Users\\USER\\AppData\\Local\\Temp\\ipykernel_8856\\928377237.py:2: SettingWithCopyWarning: \n",
      "A value is trying to be set on a copy of a slice from a DataFrame.\n",
      "Try using .loc[row_indexer,col_indexer] = value instead\n",
      "\n",
      "See the caveats in the documentation: https://pandas.pydata.org/pandas-docs/stable/user_guide/indexing.html#returning-a-view-versus-a-copy\n",
      "  df[\"text\"] = df[\"title\"] + \" \" + df[\"abstract\"]\n"
     ]
    }
   ],
   "source": [
    "# the text used to cluster the articles is the concatenation of their titles and their abstracts\n",
    "df[\"text\"] = df[\"title\"] + \" \" + df[\"abstract\"]"
   ]
  },
  {
   "cell_type": "markdown",
   "id": "a044b42f",
   "metadata": {},
   "source": [
    "# Data cleaning"
   ]
  },
  {
   "cell_type": "markdown",
   "id": "3a9ab8a1",
   "metadata": {},
   "source": [
    "The text is cleaned with usual NLP techniques, in order to be optimised for the next part of the project."
   ]
  },
  {
   "cell_type": "code",
   "execution_count": 64,
   "id": "c0bc1016",
   "metadata": {},
   "outputs": [],
   "source": [
    "def preprocessing(text):\n",
    "    final_string = \"\"\n",
    "\n",
    "    # Remove all the Http: urls\n",
    "    text = re.sub('(https?://\\S+)', '', text)\n",
    "    \n",
    "    # Remove all the special characters\n",
    "    text = re.sub(r'\\W', ' ', text)\n",
    "\n",
    "    # Remove all single characters\n",
    "    text= re.sub(r'\\s+[a-zA-Z]\\s+', ' ', text)\n",
    "\n",
    "    # Remove single characters from the start\n",
    "    text = re.sub(r'\\^[a-zA-Z]\\s+', ' ', text) \n",
    "\n",
    "    # Substituting multiple spaces with single space\n",
    "    text = re.sub(r'\\s+', ' ', text, flags=re.I)\n",
    "\n",
    "    # Removing prefixed 'b'\n",
    "    text = re.sub(r'^b\\s+', '', text)\n",
    "\n",
    "    # Converting to Lowercase\n",
    "    text = text.lower()\n",
    "\n",
    "    # Remove line breaks\n",
    "    text = re.sub(r'\\n', '', text)\n",
    "    \n",
    "    # Remove puncuation\n",
    "    #translator = str.maketrans('', '', string.punctuation)\n",
    "    #text = text.translate(translator)\n",
    "\n",
    "    # Remove stop words\n",
    "    text = text.split()\n",
    "    useless_words = nltk.corpus.stopwords.words(\"english\")\n",
    "    useless_words = useless_words + ['hi', 'im']\n",
    "\n",
    "    text_filtered = [word for word in text if not word in useless_words]\n",
    "\n",
    "    # Remove numbers\n",
    "    text_filtered = [re.sub(r'\\w*\\d\\w*', '', w) for w in text_filtered]\n",
    "\n",
    "    # Lemmatize\n",
    "   \n",
    "    lem = WordNetLemmatizer()\n",
    "    text_Lemmatized = [lem.lemmatize(y) for y in text_filtered]\n",
    "    \n",
    "    final_string = ' '.join(text_Lemmatized)\n",
    "\n",
    "    return final_string\n",
    "    "
   ]
  },
  {
   "cell_type": "code",
   "execution_count": 65,
   "id": "03dc515a",
   "metadata": {},
   "outputs": [
    {
     "name": "stderr",
     "output_type": "stream",
     "text": [
      "C:\\Users\\USER\\AppData\\Local\\Temp\\ipykernel_8856\\3958570542.py:1: SettingWithCopyWarning: \n",
      "A value is trying to be set on a copy of a slice from a DataFrame.\n",
      "Try using .loc[row_indexer,col_indexer] = value instead\n",
      "\n",
      "See the caveats in the documentation: https://pandas.pydata.org/pandas-docs/stable/user_guide/indexing.html#returning-a-view-versus-a-copy\n",
      "  df['text_clean'] = df['text'].apply(lambda x: preprocessing(x))\n"
     ]
    }
   ],
   "source": [
    "df['text_clean'] = df['text'].apply(lambda x: preprocessing(x))"
   ]
  },
  {
   "cell_type": "code",
   "execution_count": 66,
   "id": "d11af28f",
   "metadata": {},
   "outputs": [
    {
     "data": {
      "text/html": [
       "<div>\n",
       "<style scoped>\n",
       "    .dataframe tbody tr th:only-of-type {\n",
       "        vertical-align: middle;\n",
       "    }\n",
       "\n",
       "    .dataframe tbody tr th {\n",
       "        vertical-align: top;\n",
       "    }\n",
       "\n",
       "    .dataframe thead th {\n",
       "        text-align: right;\n",
       "    }\n",
       "</style>\n",
       "<table border=\"1\" class=\"dataframe\">\n",
       "  <thead>\n",
       "    <tr style=\"text-align: right;\">\n",
       "      <th></th>\n",
       "      <th>text_clean</th>\n",
       "      <th>text</th>\n",
       "    </tr>\n",
       "  </thead>\n",
       "  <tbody>\n",
       "    <tr>\n",
       "      <th>0</th>\n",
       "      <td>way learn facial recognition system used photo...</td>\n",
       "      <td>Here’s a Way to Learn if Facial Recognition Sy...</td>\n",
       "    </tr>\n",
       "    <tr>\n",
       "      <th>1</th>\n",
       "      <td>inside pro huawei influence campaign covert on...</td>\n",
       "      <td>Inside a Pro-Huawei Influence Campaign A cover...</td>\n",
       "    </tr>\n",
       "    <tr>\n",
       "      <th>2</th>\n",
       "      <td>get spacex flight rich lucky jared isaacman  y...</td>\n",
       "      <td>To Get on This SpaceX Flight, You Don’t Have t...</td>\n",
       "    </tr>\n",
       "    <tr>\n",
       "      <th>3</th>\n",
       "      <td>found way limit big tech power using design bi...</td>\n",
       "      <td>They Found a Way to Limit Big Tech’s Power: Us...</td>\n",
       "    </tr>\n",
       "    <tr>\n",
       "      <th>4</th>\n",
       "      <td>blockchain hype technology based decentralized...</td>\n",
       "      <td>What is a Blockchain? Is It Hype? A technology...</td>\n",
       "    </tr>\n",
       "    <tr>\n",
       "      <th>...</th>\n",
       "      <td>...</td>\n",
       "      <td>...</td>\n",
       "    </tr>\n",
       "    <tr>\n",
       "      <th>10782</th>\n",
       "      <td>cook week butternut squash congee pasta alla b...</td>\n",
       "      <td>What to Cook This Week Butternut squash congee...</td>\n",
       "    </tr>\n",
       "    <tr>\n",
       "      <th>10783</th>\n",
       "      <td>hold marriage together marriage tom gisele oth...</td>\n",
       "      <td>What Holds a Marriage Together, or Doesn’t Mar...</td>\n",
       "    </tr>\n",
       "    <tr>\n",
       "      <th>10784</th>\n",
       "      <td>tracking climate toll leader meet reader discu...</td>\n",
       "      <td>Tracking the Climate Toll as Leaders Meet Read...</td>\n",
       "    </tr>\n",
       "    <tr>\n",
       "      <th>10785</th>\n",
       "      <td>dire outlook climate action fall short reader ...</td>\n",
       "      <td>A Dire Outlook as Climate Action Falls Short R...</td>\n",
       "    </tr>\n",
       "    <tr>\n",
       "      <th>10786</th>\n",
       "      <td>climate change skeptic change heart response b...</td>\n",
       "      <td>A Climate Change Skeptic’s Change of Heart Res...</td>\n",
       "    </tr>\n",
       "  </tbody>\n",
       "</table>\n",
       "<p>10427 rows × 2 columns</p>\n",
       "</div>"
      ],
      "text/plain": [
       "                                              text_clean  \\\n",
       "0      way learn facial recognition system used photo...   \n",
       "1      inside pro huawei influence campaign covert on...   \n",
       "2      get spacex flight rich lucky jared isaacman  y...   \n",
       "3      found way limit big tech power using design bi...   \n",
       "4      blockchain hype technology based decentralized...   \n",
       "...                                                  ...   \n",
       "10782  cook week butternut squash congee pasta alla b...   \n",
       "10783  hold marriage together marriage tom gisele oth...   \n",
       "10784  tracking climate toll leader meet reader discu...   \n",
       "10785  dire outlook climate action fall short reader ...   \n",
       "10786  climate change skeptic change heart response b...   \n",
       "\n",
       "                                                    text  \n",
       "0      Here’s a Way to Learn if Facial Recognition Sy...  \n",
       "1      Inside a Pro-Huawei Influence Campaign A cover...  \n",
       "2      To Get on This SpaceX Flight, You Don’t Have t...  \n",
       "3      They Found a Way to Limit Big Tech’s Power: Us...  \n",
       "4      What is a Blockchain? Is It Hype? A technology...  \n",
       "...                                                  ...  \n",
       "10782  What to Cook This Week Butternut squash congee...  \n",
       "10783  What Holds a Marriage Together, or Doesn’t Mar...  \n",
       "10784  Tracking the Climate Toll as Leaders Meet Read...  \n",
       "10785  A Dire Outlook as Climate Action Falls Short R...  \n",
       "10786  A Climate Change Skeptic’s Change of Heart Res...  \n",
       "\n",
       "[10427 rows x 2 columns]"
      ]
     },
     "execution_count": 66,
     "metadata": {},
     "output_type": "execute_result"
    }
   ],
   "source": [
    "df[['text_clean','text']]"
   ]
  },
  {
   "cell_type": "code",
   "execution_count": 67,
   "id": "33b3b764",
   "metadata": {},
   "outputs": [],
   "source": [
    "# saving the final dataframe\n",
    "df.to_csv('NYT_Articles.csv',index=False)"
   ]
  }
 ],
 "metadata": {
  "kernelspec": {
   "display_name": "Python 3 (ipykernel)",
   "language": "python",
   "name": "python3"
  },
  "language_info": {
   "codemirror_mode": {
    "name": "ipython",
    "version": 3
   },
   "file_extension": ".py",
   "mimetype": "text/x-python",
   "name": "python",
   "nbconvert_exporter": "python",
   "pygments_lexer": "ipython3",
   "version": "3.9.12"
  }
 },
 "nbformat": 4,
 "nbformat_minor": 5
}
